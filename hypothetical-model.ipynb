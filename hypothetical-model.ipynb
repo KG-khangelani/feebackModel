{
 "cells": [
  {
   "cell_type": "code",
   "id": "initial_id",
   "metadata": {
    "collapsed": true,
    "ExecuteTime": {
     "end_time": "2024-08-15T22:57:35.794345Z",
     "start_time": "2024-08-15T22:57:35.790427Z"
    }
   },
   "source": [
    "from mesa import Agent, Model\n",
    "from mesa.time import RandomActivation\n",
    "import random"
   ],
   "outputs": [],
   "execution_count": 32
  },
  {
   "metadata": {
    "ExecuteTime": {
     "end_time": "2024-08-15T22:57:36.289169Z",
     "start_time": "2024-08-15T22:57:36.282598Z"
    }
   },
   "cell_type": "code",
   "source": [
    "from mesa import Agent, Model\n",
    "from mesa.time import RandomActivation\n",
    "from mesa.visualization.modules import CanvasGrid, ChartModule\n",
    "from mesa.visualization.ModularVisualization import ModularServer\n",
    "import random\n",
    "\n",
    "# Customer Agent Class\n",
    "class CustomerAgent(Agent):\n",
    "    def __init__(self, unique_id, model, revenue, potential_revenue, relationship_strength, segment, product_quality, support_experience):\n",
    "        super().__init__(unique_id, model)\n",
    "        self.revenue = revenue\n",
    "        self.potential_revenue = potential_revenue\n",
    "        self.relationship_strength = relationship_strength\n",
    "        self.segment = segment\n",
    "        self.product_quality = product_quality\n",
    "        self.support_experience = support_experience\n",
    "        self.priority_score = 0\n",
    "        self.nps_score = 0\n",
    "        self.previous_nps = 0\n",
    "\n",
    "    def prioritize(self):\n",
    "        # Calculate priority score based on revenue potential and relationship strength\n",
    "        self.priority_score = 0.6 * self.potential_revenue + 0.4 * self.relationship_strength\n",
    "\n",
    "    def generate_nps(self):\n",
    "        # Base satisfaction influenced by segment\n",
    "        base_satisfaction = random.uniform(7, 10) if self.segment == 'Premium' else random.uniform(5, 8)\n",
    "\n",
    "        # Adjust based on product quality\n",
    "        product_effect = (self.product_quality - 5) / 10  # Normalize to a small range [-0.5, 0.5]\n",
    "\n",
    "        # Adjust based on support experience\n",
    "        support_effect = (self.support_experience - 5) / 10  # Normalize to a small range [-0.5, 0.5]\n",
    "\n",
    "        # Incorporate historical NPS influence (e.g., trend over time)\n",
    "        trend_effect = (self.previous_nps - 50) / 100  # Influence by previous score\n",
    "\n",
    "        # Final satisfaction score\n",
    "        satisfaction = base_satisfaction + product_effect + support_effect + trend_effect\n",
    "\n",
    "        # Ensure satisfaction is within bounds\n",
    "        satisfaction = max(1, min(10, satisfaction))\n",
    "\n",
    "        # Categorize into NPS\n",
    "        if satisfaction >= 9:\n",
    "            self.nps_score = 100  # Promoter\n",
    "        elif satisfaction >= 7:\n",
    "            self.nps_score = 0    # Passive\n",
    "        else:\n",
    "            self.nps_score = -100 # Detractor\n",
    "\n",
    "        # Store the current NPS for future reference\n",
    "        self.previous_nps = self.nps_score\n",
    "\n",
    "        return self.nps_score\n",
    "\n",
    "    def feedback_loop(self):\n",
    "        # Act on feedback\n",
    "        if self.nps_score < 0:\n",
    "            print(f\"Customer {self.unique_id}: Detractor detected! Taking action.\")\n",
    "        else:\n",
    "            print(f\"Customer {self.unique_id}: Feedback noted.\")\n",
    "\n",
    "    def step(self):\n",
    "        # Run the customer prioritization, NPS generation, and feedback loop\n",
    "        self.prioritize()\n",
    "        print(f\"Customer {self.unique_id} prioritized with score {self.priority_score}.\")\n",
    "\n",
    "        nps_score = self.generate_nps()\n",
    "        print(f\"Customer {self.unique_id} NPS score: {nps_score}.\")\n",
    "\n",
    "        self.feedback_loop()"
   ],
   "id": "6e075fa3d5c0d443",
   "outputs": [],
   "execution_count": 33
  },
  {
   "metadata": {
    "ExecuteTime": {
     "end_time": "2024-08-15T22:57:36.343189Z",
     "start_time": "2024-08-15T22:57:36.339060Z"
    }
   },
   "cell_type": "code",
   "source": [
    "# Customer Experience Model Class\n",
    "class CustomerExperienceModel(Model):\n",
    "    def __init__(self, N):\n",
    "        self.num_agents = N\n",
    "        self.schedule = RandomActivation(self)\n",
    "\n",
    "        # Create customers\n",
    "        for i in range(self.num_agents):\n",
    "            revenue = random.randint(5000, 20000)\n",
    "            potential_revenue = random.randint(3000, 15000)\n",
    "            relationship_strength = random.randint(1, 10)\n",
    "            segment = 'Premium' if random.random() > 0.5 else 'Standard'\n",
    "            product_quality = random.randint(5, 10)\n",
    "            support_experience = random.randint(5, 10)\n",
    "\n",
    "            agent = CustomerAgent(i, self, revenue, potential_revenue, relationship_strength, segment, product_quality, support_experience)\n",
    "            self.schedule.add(agent)\n",
    "\n",
    "    def step(self):\n",
    "        self.schedule.step()"
   ],
   "id": "cb3063312af573c9",
   "outputs": [],
   "execution_count": 34
  },
  {
   "metadata": {
    "ExecuteTime": {
     "end_time": "2024-08-15T22:57:36.790971Z",
     "start_time": "2024-08-15T22:57:36.787286Z"
    }
   },
   "cell_type": "code",
   "source": [
    "def customer_portrayal(agent):\n",
    "    if agent is None:\n",
    "        return\n",
    "\n",
    "    portrayal = {\n",
    "        \"Shape\": \"circle\",\n",
    "        \"Filled\": \"true\",\n",
    "        \"r\": 0.5,\n",
    "        \"Layer\": 0,\n",
    "        \"Color\": \"red\" if agent.nps_score < 0 else \"green\",\n",
    "        \"text\": agent.nps_score,\n",
    "        \"text_color\": \"white\",\n",
    "    }\n",
    "    return portrayal"
   ],
   "id": "ecb41d2a6cf0eae",
   "outputs": [],
   "execution_count": 35
  },
  {
   "metadata": {},
   "cell_type": "code",
   "source": [
    "grid = CanvasGrid(customer_portrayal, 10, 10, 500, 500)\n",
    "chart = ChartModule([{\"Label\": \"NPS Score\", \"Color\": \"Black\"}])"
   ],
   "id": "bdbd96cf311c1f60",
   "outputs": [],
   "execution_count": 36
  },
  {
   "metadata": {
    "ExecuteTime": {
     "end_time": "2024-08-15T22:57:37.340421Z",
     "start_time": "2024-08-15T22:57:37.304303Z"
    }
   },
   "cell_type": "code",
   "source": [
    "server = ModularServer(\n",
    "    CustomerExperienceModel,\n",
    "    [grid, chart],\n",
    "    \"Customer Experience Model\",\n",
    "    {\"N\": 10}\n",
    ")\n",
    "\n",
    "if __name__ == \"__main__\":\n",
    "    server.port = 8521\n",
    "    server.launch()"
   ],
   "id": "ff1dd5b438e2924f",
   "outputs": [
    {
     "name": "stdout",
     "output_type": "stream",
     "text": [
      "Interface starting at http://127.0.0.1:8521\n"
     ]
    },
    {
     "name": "stderr",
     "output_type": "stream",
     "text": [
      "C:\\Users\\user\\AppData\\Local\\Temp\\ipykernel_10032\\795299476.py:10: FutureWarning: The Mesa Model class was not initialized. In the future, you need to explicitly initialize the Model by calling super().__init__() on initialization.\n",
      "  super().__init__(unique_id, model)\n"
     ]
    },
    {
     "ename": "OSError",
     "evalue": "[WinError 10048] Only one usage of each socket address (protocol/network address/port) is normally permitted",
     "output_type": "error",
     "traceback": [
      "\u001B[1;31m---------------------------------------------------------------------------\u001B[0m",
      "\u001B[1;31mOSError\u001B[0m                                   Traceback (most recent call last)",
      "Cell \u001B[1;32mIn[37], line 10\u001B[0m\n\u001B[0;32m      8\u001B[0m \u001B[38;5;28;01mif\u001B[39;00m \u001B[38;5;18m__name__\u001B[39m \u001B[38;5;241m==\u001B[39m \u001B[38;5;124m\"\u001B[39m\u001B[38;5;124m__main__\u001B[39m\u001B[38;5;124m\"\u001B[39m:\n\u001B[0;32m      9\u001B[0m     server\u001B[38;5;241m.\u001B[39mport \u001B[38;5;241m=\u001B[39m \u001B[38;5;241m8521\u001B[39m\n\u001B[1;32m---> 10\u001B[0m     server\u001B[38;5;241m.\u001B[39mlaunch()\n",
      "File \u001B[1;32m~\\AppData\\Roaming\\Python\\Python311\\site-packages\\mesa_viz_tornado\\ModularVisualization.py:402\u001B[0m, in \u001B[0;36mModularServer.launch\u001B[1;34m(self, port, open_browser)\u001B[0m\n\u001B[0;32m    400\u001B[0m url \u001B[38;5;241m=\u001B[39m \u001B[38;5;124mf\u001B[39m\u001B[38;5;124m\"\u001B[39m\u001B[38;5;124mhttp://127.0.0.1:\u001B[39m\u001B[38;5;132;01m{\u001B[39;00m\u001B[38;5;28mself\u001B[39m\u001B[38;5;241m.\u001B[39mport\u001B[38;5;132;01m}\u001B[39;00m\u001B[38;5;124m\"\u001B[39m\n\u001B[0;32m    401\u001B[0m \u001B[38;5;28mprint\u001B[39m(\u001B[38;5;124mf\u001B[39m\u001B[38;5;124m\"\u001B[39m\u001B[38;5;124mInterface starting at \u001B[39m\u001B[38;5;132;01m{\u001B[39;00murl\u001B[38;5;132;01m}\u001B[39;00m\u001B[38;5;124m\"\u001B[39m)\n\u001B[1;32m--> 402\u001B[0m \u001B[38;5;28mself\u001B[39m\u001B[38;5;241m.\u001B[39mlisten(\u001B[38;5;28mself\u001B[39m\u001B[38;5;241m.\u001B[39mport)\n\u001B[0;32m    403\u001B[0m \u001B[38;5;28;01mif\u001B[39;00m open_browser:\n\u001B[0;32m    404\u001B[0m     webbrowser\u001B[38;5;241m.\u001B[39mopen(url)\n",
      "File \u001B[1;32mC:\\ProgramData\\anaconda3\\Lib\\site-packages\\tornado\\web.py:2211\u001B[0m, in \u001B[0;36mApplication.listen\u001B[1;34m(self, port, address, family, backlog, flags, reuse_port, **kwargs)\u001B[0m\n\u001B[0;32m   2188\u001B[0m \u001B[38;5;250m\u001B[39m\u001B[38;5;124;03m\"\"\"Starts an HTTP server for this application on the given port.\u001B[39;00m\n\u001B[0;32m   2189\u001B[0m \n\u001B[0;32m   2190\u001B[0m \u001B[38;5;124;03mThis is a convenience alias for creating an `.HTTPServer` object and\u001B[39;00m\n\u001B[1;32m   (...)\u001B[0m\n\u001B[0;32m   2208\u001B[0m \u001B[38;5;124;03m   including ``reuse_port``.\u001B[39;00m\n\u001B[0;32m   2209\u001B[0m \u001B[38;5;124;03m\"\"\"\u001B[39;00m\n\u001B[0;32m   2210\u001B[0m server \u001B[38;5;241m=\u001B[39m HTTPServer(\u001B[38;5;28mself\u001B[39m, \u001B[38;5;241m*\u001B[39m\u001B[38;5;241m*\u001B[39mkwargs)\n\u001B[1;32m-> 2211\u001B[0m server\u001B[38;5;241m.\u001B[39mlisten(\n\u001B[0;32m   2212\u001B[0m     port,\n\u001B[0;32m   2213\u001B[0m     address\u001B[38;5;241m=\u001B[39maddress,\n\u001B[0;32m   2214\u001B[0m     family\u001B[38;5;241m=\u001B[39mfamily,\n\u001B[0;32m   2215\u001B[0m     backlog\u001B[38;5;241m=\u001B[39mbacklog,\n\u001B[0;32m   2216\u001B[0m     flags\u001B[38;5;241m=\u001B[39mflags,\n\u001B[0;32m   2217\u001B[0m     reuse_port\u001B[38;5;241m=\u001B[39mreuse_port,\n\u001B[0;32m   2218\u001B[0m )\n\u001B[0;32m   2219\u001B[0m \u001B[38;5;28;01mreturn\u001B[39;00m server\n",
      "File \u001B[1;32mC:\\ProgramData\\anaconda3\\Lib\\site-packages\\tornado\\tcpserver.py:183\u001B[0m, in \u001B[0;36mTCPServer.listen\u001B[1;34m(self, port, address, family, backlog, flags, reuse_port)\u001B[0m\n\u001B[0;32m    159\u001B[0m \u001B[38;5;28;01mdef\u001B[39;00m \u001B[38;5;21mlisten\u001B[39m(\n\u001B[0;32m    160\u001B[0m     \u001B[38;5;28mself\u001B[39m,\n\u001B[0;32m    161\u001B[0m     port: \u001B[38;5;28mint\u001B[39m,\n\u001B[1;32m   (...)\u001B[0m\n\u001B[0;32m    166\u001B[0m     reuse_port: \u001B[38;5;28mbool\u001B[39m \u001B[38;5;241m=\u001B[39m \u001B[38;5;28;01mFalse\u001B[39;00m,\n\u001B[0;32m    167\u001B[0m ) \u001B[38;5;241m-\u001B[39m\u001B[38;5;241m>\u001B[39m \u001B[38;5;28;01mNone\u001B[39;00m:\n\u001B[0;32m    168\u001B[0m \u001B[38;5;250m    \u001B[39m\u001B[38;5;124;03m\"\"\"Starts accepting connections on the given port.\u001B[39;00m\n\u001B[0;32m    169\u001B[0m \n\u001B[0;32m    170\u001B[0m \u001B[38;5;124;03m    This method may be called more than once to listen on multiple ports.\u001B[39;00m\n\u001B[1;32m   (...)\u001B[0m\n\u001B[0;32m    181\u001B[0m \u001B[38;5;124;03m       arguments to match `tornado.netutil.bind_sockets`.\u001B[39;00m\n\u001B[0;32m    182\u001B[0m \u001B[38;5;124;03m    \"\"\"\u001B[39;00m\n\u001B[1;32m--> 183\u001B[0m     sockets \u001B[38;5;241m=\u001B[39m bind_sockets(\n\u001B[0;32m    184\u001B[0m         port,\n\u001B[0;32m    185\u001B[0m         address\u001B[38;5;241m=\u001B[39maddress,\n\u001B[0;32m    186\u001B[0m         family\u001B[38;5;241m=\u001B[39mfamily,\n\u001B[0;32m    187\u001B[0m         backlog\u001B[38;5;241m=\u001B[39mbacklog,\n\u001B[0;32m    188\u001B[0m         flags\u001B[38;5;241m=\u001B[39mflags,\n\u001B[0;32m    189\u001B[0m         reuse_port\u001B[38;5;241m=\u001B[39mreuse_port,\n\u001B[0;32m    190\u001B[0m     )\n\u001B[0;32m    191\u001B[0m     \u001B[38;5;28mself\u001B[39m\u001B[38;5;241m.\u001B[39madd_sockets(sockets)\n",
      "File \u001B[1;32mC:\\ProgramData\\anaconda3\\Lib\\site-packages\\tornado\\netutil.py:162\u001B[0m, in \u001B[0;36mbind_sockets\u001B[1;34m(port, address, family, backlog, flags, reuse_port)\u001B[0m\n\u001B[0;32m    160\u001B[0m sock\u001B[38;5;241m.\u001B[39msetblocking(\u001B[38;5;28;01mFalse\u001B[39;00m)\n\u001B[0;32m    161\u001B[0m \u001B[38;5;28;01mtry\u001B[39;00m:\n\u001B[1;32m--> 162\u001B[0m     sock\u001B[38;5;241m.\u001B[39mbind(sockaddr)\n\u001B[0;32m    163\u001B[0m \u001B[38;5;28;01mexcept\u001B[39;00m \u001B[38;5;167;01mOSError\u001B[39;00m \u001B[38;5;28;01mas\u001B[39;00m e:\n\u001B[0;32m    164\u001B[0m     \u001B[38;5;28;01mif\u001B[39;00m (\n\u001B[0;32m    165\u001B[0m         errno_from_exception(e) \u001B[38;5;241m==\u001B[39m errno\u001B[38;5;241m.\u001B[39mEADDRNOTAVAIL\n\u001B[0;32m    166\u001B[0m         \u001B[38;5;129;01mand\u001B[39;00m address \u001B[38;5;241m==\u001B[39m \u001B[38;5;124m\"\u001B[39m\u001B[38;5;124mlocalhost\u001B[39m\u001B[38;5;124m\"\u001B[39m\n\u001B[1;32m   (...)\u001B[0m\n\u001B[0;32m    178\u001B[0m         \u001B[38;5;66;03m# might be a real problem like a typo in a\u001B[39;00m\n\u001B[0;32m    179\u001B[0m         \u001B[38;5;66;03m# configuration.\u001B[39;00m\n",
      "\u001B[1;31mOSError\u001B[0m: [WinError 10048] Only one usage of each socket address (protocol/network address/port) is normally permitted"
     ]
    }
   ],
   "execution_count": 37
  },
  {
   "metadata": {
    "ExecuteTime": {
     "end_time": "2024-08-15T22:57:37.518552Z",
     "start_time": "2024-08-15T22:31:29.132674Z"
    }
   },
   "cell_type": "code",
   "source": "",
   "id": "5b099a6902b9b514",
   "outputs": [
    {
     "ename": "NameError",
     "evalue": "name 'agents' is not defined",
     "output_type": "error",
     "traceback": [
      "\u001B[1;31m---------------------------------------------------------------------------\u001B[0m",
      "\u001B[1;31mNameError\u001B[0m                                 Traceback (most recent call last)",
      "Cell \u001B[1;32mIn[13], line 6\u001B[0m\n\u001B[0;32m      1\u001B[0m \u001B[38;5;28;01mimport\u001B[39;00m \u001B[38;5;21;01mplotly\u001B[39;00m\u001B[38;5;21;01m.\u001B[39;00m\u001B[38;5;21;01mgraph_objects\u001B[39;00m \u001B[38;5;28;01mas\u001B[39;00m \u001B[38;5;21;01mgo\u001B[39;00m\n\u001B[0;32m      3\u001B[0m \u001B[38;5;66;03m# Assuming 'agents' and 'interactions' are dataframes containing agent information\u001B[39;00m\n\u001B[0;32m      4\u001B[0m fig \u001B[38;5;241m=\u001B[39m go\u001B[38;5;241m.\u001B[39mFigure(data\u001B[38;5;241m=\u001B[39m[\n\u001B[0;32m      5\u001B[0m     go\u001B[38;5;241m.\u001B[39mScatter(\n\u001B[1;32m----> 6\u001B[0m         x\u001B[38;5;241m=\u001B[39magents[\u001B[38;5;124m'\u001B[39m\u001B[38;5;124mx\u001B[39m\u001B[38;5;124m'\u001B[39m],\n\u001B[0;32m      7\u001B[0m         y\u001B[38;5;241m=\u001B[39magents[\u001B[38;5;124m'\u001B[39m\u001B[38;5;124my\u001B[39m\u001B[38;5;124m'\u001B[39m],\n\u001B[0;32m      8\u001B[0m         mode\u001B[38;5;241m=\u001B[39m\u001B[38;5;124m'\u001B[39m\u001B[38;5;124mmarkers\u001B[39m\u001B[38;5;124m'\u001B[39m,\n\u001B[0;32m      9\u001B[0m         marker\u001B[38;5;241m=\u001B[39m\u001B[38;5;28mdict\u001B[39m(size\u001B[38;5;241m=\u001B[39m\u001B[38;5;241m5\u001B[39m, color\u001B[38;5;241m=\u001B[39m\u001B[38;5;124m'\u001B[39m\u001B[38;5;124mblue\u001B[39m\u001B[38;5;124m'\u001B[39m)\n\u001B[0;32m     10\u001B[0m     ),\n\u001B[0;32m     11\u001B[0m \n\u001B[0;32m     12\u001B[0m     go\u001B[38;5;241m.\u001B[39mScatter(\n\u001B[0;32m     13\u001B[0m         x\u001B[38;5;241m=\u001B[39m[interaction[\u001B[38;5;124m'\u001B[39m\u001B[38;5;124mx1\u001B[39m\u001B[38;5;124m'\u001B[39m], interaction[\u001B[38;5;124m'\u001B[39m\u001B[38;5;124mx2\u001B[39m\u001B[38;5;124m'\u001B[39m]],\n\u001B[0;32m     14\u001B[0m         y\u001B[38;5;241m=\u001B[39m[interaction[\u001B[38;5;124m'\u001B[39m\u001B[38;5;124my1\u001B[39m\u001B[38;5;124m'\u001B[39m], interaction[\u001B[38;5;124m'\u001B[39m\u001B[38;5;124my2\u001B[39m\u001B[38;5;124m'\u001B[39m]],\n\u001B[0;32m     15\u001B[0m         mode\u001B[38;5;241m=\u001B[39m\u001B[38;5;124m'\u001B[39m\u001B[38;5;124mlines\u001B[39m\u001B[38;5;124m'\u001B[39m,\n\u001B[0;32m     16\u001B[0m         line\u001B[38;5;241m=\u001B[39m\u001B[38;5;28mdict\u001B[39m(color\u001B[38;5;241m=\u001B[39m\u001B[38;5;124m'\u001B[39m\u001B[38;5;124mred\u001B[39m\u001B[38;5;124m'\u001B[39m, width\u001B[38;5;241m=\u001B[39m\u001B[38;5;241m2\u001B[39m)\n\u001B[0;32m     17\u001B[0m     )\n\u001B[0;32m     18\u001B[0m ])\n\u001B[0;32m     20\u001B[0m \u001B[38;5;66;03m# Add event annotations\u001B[39;00m\n\u001B[0;32m     21\u001B[0m \u001B[38;5;28;01mfor\u001B[39;00m i, event \u001B[38;5;129;01min\u001B[39;00m \u001B[38;5;28menumerate\u001B[39m(events):\n",
      "\u001B[1;31mNameError\u001B[0m: name 'agents' is not defined"
     ]
    }
   ],
   "execution_count": 13
  }
 ],
 "metadata": {
  "kernelspec": {
   "display_name": "Python 3",
   "language": "python",
   "name": "python3"
  },
  "language_info": {
   "codemirror_mode": {
    "name": "ipython",
    "version": 2
   },
   "file_extension": ".py",
   "mimetype": "text/x-python",
   "name": "python",
   "nbconvert_exporter": "python",
   "pygments_lexer": "ipython2",
   "version": "2.7.6"
  }
 },
 "nbformat": 4,
 "nbformat_minor": 5
}
